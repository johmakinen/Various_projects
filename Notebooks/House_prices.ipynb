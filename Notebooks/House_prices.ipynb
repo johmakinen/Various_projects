{
 "cells": [
  {
   "cell_type": "code",
   "execution_count": 6,
   "metadata": {},
   "outputs": [],
   "source": [
    "import sqlite3\n",
    "from sqlite3 import Error\n",
    "\n",
    "import pandas as pd\n",
    "import numpy as np"
   ]
  },
  {
   "cell_type": "code",
   "execution_count": 4,
   "metadata": {},
   "outputs": [],
   "source": [
    "def read_data_from_DB():\n",
    "    try:\n",
    "        path_to_DB = r\"../Data/house.db\"\n",
    "        conn = sqlite3.connect(path_to_DB)\n",
    "        df = pd.read_sql_query(\"SELECT * from house_features\", conn)\n",
    "    except Error as e:\n",
    "        print(e)\n",
    "        df = 0\n",
    "    return df\n",
    "df = read_data_from_DB()"
   ]
  },
  {
   "cell_type": "code",
   "execution_count": 5,
   "metadata": {},
   "outputs": [
    {
     "data": {
      "text/html": [
       "<div>\n",
       "<style scoped>\n",
       "    .dataframe tbody tr th:only-of-type {\n",
       "        vertical-align: middle;\n",
       "    }\n",
       "\n",
       "    .dataframe tbody tr th {\n",
       "        vertical-align: top;\n",
       "    }\n",
       "\n",
       "    .dataframe thead th {\n",
       "        text-align: right;\n",
       "    }\n",
       "</style>\n",
       "<table border=\"1\" class=\"dataframe\">\n",
       "  <thead>\n",
       "    <tr style=\"text-align: right;\">\n",
       "      <th></th>\n",
       "      <th>ID</th>\n",
       "      <th>HOUSE_TYPE</th>\n",
       "      <th>HOUSE_ROOMS</th>\n",
       "      <th>ADDRESS</th>\n",
       "      <th>AREA</th>\n",
       "      <th>CITY</th>\n",
       "      <th>PRICE</th>\n",
       "      <th>SIZE</th>\n",
       "      <th>YEAR</th>\n",
       "      <th>LATITUDE</th>\n",
       "      <th>LONGITUDE</th>\n",
       "    </tr>\n",
       "  </thead>\n",
       "  <tbody>\n",
       "    <tr>\n",
       "      <th>0</th>\n",
       "      <td>1</td>\n",
       "      <td>Kerrostalo</td>\n",
       "      <td>2 h + k</td>\n",
       "      <td>Mechelininkatu 17 A</td>\n",
       "      <td>Töölö</td>\n",
       "      <td>Helsinki</td>\n",
       "      <td>575000</td>\n",
       "      <td>81</td>\n",
       "      <td>1928</td>\n",
       "      <td>60.172709</td>\n",
       "      <td>24.920025</td>\n",
       "    </tr>\n",
       "    <tr>\n",
       "      <th>1</th>\n",
       "      <td>2</td>\n",
       "      <td>Kerrostalo</td>\n",
       "      <td>1h + kk + kph + lasitettu parveke</td>\n",
       "      <td>Porvoonkatu 5-7 A</td>\n",
       "      <td>Alppiharju</td>\n",
       "      <td>Helsinki</td>\n",
       "      <td>209000</td>\n",
       "      <td>28</td>\n",
       "      <td>1963</td>\n",
       "      <td>60.189479</td>\n",
       "      <td>24.950852</td>\n",
       "    </tr>\n",
       "    <tr>\n",
       "      <th>2</th>\n",
       "      <td>3</td>\n",
       "      <td>Omakotitalo</td>\n",
       "      <td>3-4h, k, rh, 2wc, kuisti n. 115 m2 + saunaos....</td>\n",
       "      <td>Lainlukijantie 42</td>\n",
       "      <td>Torpparinmäki</td>\n",
       "      <td>Helsinki</td>\n",
       "      <td>398000</td>\n",
       "      <td>115</td>\n",
       "      <td>1954</td>\n",
       "      <td>60.263987</td>\n",
       "      <td>24.954653</td>\n",
       "    </tr>\n",
       "    <tr>\n",
       "      <th>3</th>\n",
       "      <td>4</td>\n",
       "      <td>Kerrostalo</td>\n",
       "      <td>1 h + kk + kph</td>\n",
       "      <td>Kauppalantie 13</td>\n",
       "      <td>Etelä-Haaga</td>\n",
       "      <td>Helsinki</td>\n",
       "      <td>199000</td>\n",
       "      <td>26</td>\n",
       "      <td>1963</td>\n",
       "      <td>60.211790</td>\n",
       "      <td>24.898284</td>\n",
       "    </tr>\n",
       "    <tr>\n",
       "      <th>4</th>\n",
       "      <td>5</td>\n",
       "      <td>Kerrostalo</td>\n",
       "      <td>2H + KK + S</td>\n",
       "      <td>Leikosaarentie 13</td>\n",
       "      <td>Vuosaari</td>\n",
       "      <td>Helsinki</td>\n",
       "      <td>16446</td>\n",
       "      <td>46</td>\n",
       "      <td>1996</td>\n",
       "      <td>60.202981</td>\n",
       "      <td>25.142185</td>\n",
       "    </tr>\n",
       "  </tbody>\n",
       "</table>\n",
       "</div>"
      ],
      "text/plain": [
       "   ID   HOUSE_TYPE                                        HOUSE_ROOMS  \\\n",
       "0   1   Kerrostalo                                            2 h + k   \n",
       "1   2   Kerrostalo                 1h + kk + kph + lasitettu parveke    \n",
       "2   3  Omakotitalo   3-4h, k, rh, 2wc, kuisti n. 115 m2 + saunaos....   \n",
       "3   4   Kerrostalo                                     1 h + kk + kph   \n",
       "4   5   Kerrostalo                                        2H + KK + S   \n",
       "\n",
       "               ADDRESS           AREA      CITY   PRICE  SIZE  YEAR  \\\n",
       "0  Mechelininkatu 17 A          Töölö  Helsinki  575000    81  1928   \n",
       "1    Porvoonkatu 5-7 A     Alppiharju  Helsinki  209000    28  1963   \n",
       "2    Lainlukijantie 42  Torpparinmäki  Helsinki  398000   115  1954   \n",
       "3      Kauppalantie 13    Etelä-Haaga  Helsinki  199000    26  1963   \n",
       "4    Leikosaarentie 13       Vuosaari  Helsinki   16446    46  1996   \n",
       "\n",
       "    LATITUDE  LONGITUDE  \n",
       "0  60.172709  24.920025  \n",
       "1  60.189479  24.950852  \n",
       "2  60.263987  24.954653  \n",
       "3  60.211790  24.898284  \n",
       "4  60.202981  25.142185  "
      ]
     },
     "execution_count": 5,
     "metadata": {},
     "output_type": "execute_result"
    }
   ],
   "source": [
    "df.head(5)\n"
   ]
  },
  {
   "cell_type": "markdown",
   "metadata": {},
   "source": [
    "Helsinki city center is quite large, but the if someone would have to point out *the* central point, they would either say \"Narinkkatori\" or \"Kolmen sepän patsas\".\n",
    "I want to measure the distance between Narinkkatori and the listed house/apartment. My hypothesis is that the further away the location is from this central point, the less it will be valued.\n",
    "\n",
    "The distance could be computed in various ways, but as we are possibly dealing with small distances ( $d<1$ km), we need to be careful when selecting the correct distance computation method.\n",
    "\n",
    "Let $\\lambda_1$,$\\phi_1$ and $\\lambda_2$,$\\phi_2$ be the geographical longitude and latitude of two points 1 and 2, and $\\Delta\\lambda$,$\\Delta\\phi$ be their absolute differences. R is the radius of the earth (6371km)\n",
    "\n",
    "We could use the spherical law of cosines:\n",
    "- $d = R \\cdot arccos(sin\\phi_1sin\\phi_2+cos\\phi_1 cos\\phi_2cos(\\Delta\\lambda)))$, but this is susceptible to rounding point errors.\n",
    "\n",
    "A better alternative would be the Haversine formula:\n",
    "- $d = archav(hav(\\Delta\\phi)+(1-hav(\\Delta\\phi)-hav(\\phi_1+\\phi_2))\\cdot hav(\\Delta\\lambda))$,\n",
    "- $hav(x) = sin^2(x/2)$\n",
    "\n",
    "The simplest method would be a spherical projection onto a plane:\n",
    "- $d = R\\sqrt{(\\Delta\\phi)^2+(cos(\\frac{\\phi_1+\\phi_2}{2})\\Delta\\lambda)^2}$\n",
    "\n"
   ]
  },
  {
   "cell_type": "code",
   "execution_count": 20,
   "metadata": {},
   "outputs": [],
   "source": [
    "def compute_dist(lat1,lon1,lat2,lon2,dist=\"Spherical_to_plane\"): #phi,lambda\n",
    "    lon1, lat1, lon2, lat2 = map(np.radians, [lon1, lat1, lon2, lat2])\n",
    "    if dist == \"Spherical_to_plane\":\n",
    "        dist = 6371*np.sqrt((lat1-lat2)**2+(np.cos((lat1+lat2)/2)*(lon1-lon2)**2))\n",
    "    elif dist == \"Haversine\":\n",
    "        dlon = lon2 - lon1 \n",
    "        dlat = lat2 - lat1 \n",
    "        a = (np.sin(dlat/2)**2 \n",
    "         + np.cos(lat1) * np.cos(lat2) * np.sin(dlon/2)**2)\n",
    "        c = 2 * np.arcsin(np.sqrt(a)) \n",
    "        dist = 6371 * c\n",
    "    return dist"
   ]
  },
  {
   "cell_type": "code",
   "execution_count": 21,
   "metadata": {},
   "outputs": [
    {
     "name": "stdout",
     "output_type": "stream",
     "text": [
      "With a projection of spherical coordinates to a plane:  10.506161724677145\n",
      "With a the Haversine formula:  10.328266143722727\n"
     ]
    }
   ],
   "source": [
    "print(\"With a projection of spherical coordinates to a plane: \",compute_dist(60.172709,24.920025,60.263987,24.954653))\n",
    "print(\"With a the Haversine formula: \",compute_dist(60.172709,24.920025,60.263987,24.954653,dist=\"Haversine\"))"
   ]
  },
  {
   "cell_type": "markdown",
   "metadata": {},
   "source": [
    "The Haversine formula probably gives better approximations in our case, as it does not overshoot the distance due to a projection. In the future we might want to add listings from cities far away from the capital area, and thus Haversine still would be able to give decent approximations."
   ]
  },
  {
   "cell_type": "code",
   "execution_count": 30,
   "metadata": {},
   "outputs": [
    {
     "data": {
      "text/html": [
       "<div>\n",
       "<style scoped>\n",
       "    .dataframe tbody tr th:only-of-type {\n",
       "        vertical-align: middle;\n",
       "    }\n",
       "\n",
       "    .dataframe tbody tr th {\n",
       "        vertical-align: top;\n",
       "    }\n",
       "\n",
       "    .dataframe thead th {\n",
       "        text-align: right;\n",
       "    }\n",
       "</style>\n",
       "<table border=\"1\" class=\"dataframe\">\n",
       "  <thead>\n",
       "    <tr style=\"text-align: right;\">\n",
       "      <th></th>\n",
       "      <th>ID</th>\n",
       "      <th>HOUSE_TYPE</th>\n",
       "      <th>HOUSE_ROOMS</th>\n",
       "      <th>ADDRESS</th>\n",
       "      <th>AREA</th>\n",
       "      <th>CITY</th>\n",
       "      <th>PRICE</th>\n",
       "      <th>SIZE</th>\n",
       "      <th>YEAR</th>\n",
       "      <th>LATITUDE</th>\n",
       "      <th>LONGITUDE</th>\n",
       "      <th>DIST_to_center</th>\n",
       "    </tr>\n",
       "  </thead>\n",
       "  <tbody>\n",
       "    <tr>\n",
       "      <th>0</th>\n",
       "      <td>1</td>\n",
       "      <td>Kerrostalo</td>\n",
       "      <td>2 h + k</td>\n",
       "      <td>Mechelininkatu 17 A</td>\n",
       "      <td>Töölö</td>\n",
       "      <td>Helsinki</td>\n",
       "      <td>575000</td>\n",
       "      <td>81</td>\n",
       "      <td>1928</td>\n",
       "      <td>60.172709</td>\n",
       "      <td>24.920025</td>\n",
       "      <td>0.886916</td>\n",
       "    </tr>\n",
       "    <tr>\n",
       "      <th>1</th>\n",
       "      <td>2</td>\n",
       "      <td>Kerrostalo</td>\n",
       "      <td>1h + kk + kph + lasitettu parveke</td>\n",
       "      <td>Porvoonkatu 5-7 A</td>\n",
       "      <td>Alppiharju</td>\n",
       "      <td>Helsinki</td>\n",
       "      <td>209000</td>\n",
       "      <td>28</td>\n",
       "      <td>1963</td>\n",
       "      <td>60.189479</td>\n",
       "      <td>24.950852</td>\n",
       "      <td>2.373312</td>\n",
       "    </tr>\n",
       "    <tr>\n",
       "      <th>2</th>\n",
       "      <td>3</td>\n",
       "      <td>Omakotitalo</td>\n",
       "      <td>3-4h, k, rh, 2wc, kuisti n. 115 m2 + saunaos....</td>\n",
       "      <td>Lainlukijantie 42</td>\n",
       "      <td>Torpparinmäki</td>\n",
       "      <td>Helsinki</td>\n",
       "      <td>398000</td>\n",
       "      <td>115</td>\n",
       "      <td>1954</td>\n",
       "      <td>60.263987</td>\n",
       "      <td>24.954653</td>\n",
       "      <td>10.544124</td>\n",
       "    </tr>\n",
       "    <tr>\n",
       "      <th>3</th>\n",
       "      <td>4</td>\n",
       "      <td>Kerrostalo</td>\n",
       "      <td>1 h + kk + kph</td>\n",
       "      <td>Kauppalantie 13</td>\n",
       "      <td>Etelä-Haaga</td>\n",
       "      <td>Helsinki</td>\n",
       "      <td>199000</td>\n",
       "      <td>26</td>\n",
       "      <td>1963</td>\n",
       "      <td>60.211790</td>\n",
       "      <td>24.898284</td>\n",
       "      <td>5.100788</td>\n",
       "    </tr>\n",
       "    <tr>\n",
       "      <th>4</th>\n",
       "      <td>5</td>\n",
       "      <td>Kerrostalo</td>\n",
       "      <td>2H + KK + S</td>\n",
       "      <td>Leikosaarentie 13</td>\n",
       "      <td>Vuosaari</td>\n",
       "      <td>Helsinki</td>\n",
       "      <td>16446</td>\n",
       "      <td>46</td>\n",
       "      <td>1996</td>\n",
       "      <td>60.202981</td>\n",
       "      <td>25.142185</td>\n",
       "      <td>12.045611</td>\n",
       "    </tr>\n",
       "  </tbody>\n",
       "</table>\n",
       "</div>"
      ],
      "text/plain": [
       "   ID   HOUSE_TYPE                                        HOUSE_ROOMS  \\\n",
       "0   1   Kerrostalo                                            2 h + k   \n",
       "1   2   Kerrostalo                 1h + kk + kph + lasitettu parveke    \n",
       "2   3  Omakotitalo   3-4h, k, rh, 2wc, kuisti n. 115 m2 + saunaos....   \n",
       "3   4   Kerrostalo                                     1 h + kk + kph   \n",
       "4   5   Kerrostalo                                        2H + KK + S   \n",
       "\n",
       "               ADDRESS           AREA      CITY   PRICE  SIZE  YEAR  \\\n",
       "0  Mechelininkatu 17 A          Töölö  Helsinki  575000    81  1928   \n",
       "1    Porvoonkatu 5-7 A     Alppiharju  Helsinki  209000    28  1963   \n",
       "2    Lainlukijantie 42  Torpparinmäki  Helsinki  398000   115  1954   \n",
       "3      Kauppalantie 13    Etelä-Haaga  Helsinki  199000    26  1963   \n",
       "4    Leikosaarentie 13       Vuosaari  Helsinki   16446    46  1996   \n",
       "\n",
       "    LATITUDE  LONGITUDE  DIST_to_center  \n",
       "0  60.172709  24.920025        0.886916  \n",
       "1  60.189479  24.950852        2.373312  \n",
       "2  60.263987  24.954653       10.544124  \n",
       "3  60.211790  24.898284        5.100788  \n",
       "4  60.202981  25.142185       12.045611  "
      ]
     },
     "execution_count": 30,
     "metadata": {},
     "output_type": "execute_result"
    }
   ],
   "source": [
    "coords_narinkkatori = 60.169673, 24.934854\n",
    "# compute_dist(62.617156,29.716200,*coords_narinkkatori,dist=\"Haversine\")\n",
    "df[\"DIST_to_center\"] = compute_dist(df[\"LATITUDE\"],df[\"LONGITUDE\"],*coords_narinkkatori,dist=\"Haversine\")\n",
    "df.head()"
   ]
  },
  {
   "cell_type": "markdown",
   "metadata": {},
   "source": [
    "## Exploratory Data Analysis"
   ]
  },
  {
   "cell_type": "markdown",
   "metadata": {},
   "source": [
    "### Categorical features"
   ]
  },
  {
   "cell_type": "code",
   "execution_count": null,
   "metadata": {},
   "outputs": [],
   "source": []
  },
  {
   "cell_type": "code",
   "execution_count": null,
   "metadata": {},
   "outputs": [],
   "source": []
  },
  {
   "cell_type": "code",
   "execution_count": null,
   "metadata": {},
   "outputs": [],
   "source": []
  },
  {
   "cell_type": "markdown",
   "metadata": {},
   "source": [
    "### Numerical features"
   ]
  },
  {
   "cell_type": "code",
   "execution_count": null,
   "metadata": {},
   "outputs": [],
   "source": []
  },
  {
   "cell_type": "code",
   "execution_count": null,
   "metadata": {},
   "outputs": [],
   "source": []
  },
  {
   "cell_type": "markdown",
   "metadata": {},
   "source": [
    "## TODO:\n",
    "- EDA on features\n",
    "- Cleaning data + Regression on prices\n",
    "    Naive + XGboost + ..."
   ]
  }
 ],
 "metadata": {
  "interpreter": {
   "hash": "95c126be7906cb3ce224c5e13096060dff62da475e2b434fda555373526b57f6"
  },
  "kernelspec": {
   "display_name": "Python 3.10.0 64-bit ('gen_ml_env': conda)",
   "language": "python",
   "name": "python3"
  },
  "language_info": {
   "codemirror_mode": {
    "name": "ipython",
    "version": 3
   },
   "file_extension": ".py",
   "mimetype": "text/x-python",
   "name": "python",
   "nbconvert_exporter": "python",
   "pygments_lexer": "ipython3",
   "version": "3.10.0"
  },
  "orig_nbformat": 4
 },
 "nbformat": 4,
 "nbformat_minor": 2
}
