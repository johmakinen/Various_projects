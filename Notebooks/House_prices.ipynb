{
 "cells": [
  {
   "cell_type": "code",
   "execution_count": null,
   "metadata": {},
   "outputs": [],
   "source": [
    "import sqlite3\n",
    "from sqlite3 import Error\n",
    "\n",
    "import pandas as pd\n",
    "import requests\n",
    "import urllib.parse\n",
    "import re"
   ]
  },
  {
   "cell_type": "code",
   "execution_count": null,
   "metadata": {},
   "outputs": [],
   "source": [
    "def read_data_from_DB():\n",
    "    try:\n",
    "        path_to_DB = r\"../Data/house.db\"\n",
    "        conn = sqlite3.connect(path_to_DB)\n",
    "        df = pd.read_sql_query(\"SELECT * from house_features\", conn)\n",
    "    except Error as e:\n",
    "        print(e)\n",
    "        df = 0\n",
    "    return df\n",
    "df = read_data_from_DB()"
   ]
  },
  {
   "cell_type": "code",
   "execution_count": null,
   "metadata": {},
   "outputs": [],
   "source": [
    "df.head(5)\n"
   ]
  },
  {
   "cell_type": "code",
   "execution_count": null,
   "metadata": {},
   "outputs": [],
   "source": [
    "def get_coords(address):\n",
    "    clean_address = re.match(r\".+?(\\d+)\",address)\n",
    "    if clean_address:\n",
    "        url = \"https://nominatim.openstreetmap.org/?addressdetails=1&q=\" + clean_address.group()  +\"&format=json&limit=1\"\n",
    "        response = requests.get(url).json()\n",
    "        if response:\n",
    "            res = response[0][\"lat\"],response[0][\"lon\"]\n",
    "            print(res)\n",
    "            return res\n",
    "        else:\n",
    "            return -1,-1 # Not found\n",
    "    return -1,-1\n",
    "\n",
    "\n",
    "df[\"COORDS\"] = df[\"ADDRESS\"].map(lambda x: get_coords(x))\n",
    "df.head()\n"
   ]
  },
  {
   "cell_type": "markdown",
   "metadata": {},
   "source": [
    "## TODO:\n",
    "\n",
    "- Get coords\n",
    "- Compute distance from Helsinki city center\n",
    "- EDA on features + cleaning\n",
    "- Regerssion on prices\n",
    "    Naive + XGboost + ..."
   ]
  }
 ],
 "metadata": {
  "interpreter": {
   "hash": "95c126be7906cb3ce224c5e13096060dff62da475e2b434fda555373526b57f6"
  },
  "kernelspec": {
   "display_name": "Python 3.10.0 64-bit ('gen_ml_env': conda)",
   "language": "python",
   "name": "python3"
  },
  "language_info": {
   "codemirror_mode": {
    "name": "ipython",
    "version": 3
   },
   "file_extension": ".py",
   "mimetype": "text/x-python",
   "name": "python",
   "nbconvert_exporter": "python",
   "pygments_lexer": "ipython3",
   "version": "3.10.0"
  },
  "orig_nbformat": 4
 },
 "nbformat": 4,
 "nbformat_minor": 2
}
